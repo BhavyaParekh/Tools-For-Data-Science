{
 "cells": [
  {
   "cell_type": "markdown",
   "id": "953571a9",
   "metadata": {},
   "source": [
    "# Data science and Ecosystem"
   ]
  },
  {
   "cell_type": "markdown",
   "id": "775f303a",
   "metadata": {},
   "source": [
    "Brief info about data science and ecosystem"
   ]
  },
  {
   "cell_type": "markdown",
   "id": "05e4a1ca",
   "metadata": {},
   "source": [
    "Well known languages of data science :\n",
    "1. Python\n",
    "2. Php\n",
    "3. Java\n",
    "4. Sql\n",
    "5. R\n",
    "6. Javascript"
   ]
  },
  {
   "cell_type": "markdown",
   "id": "3206a094",
   "metadata": {},
   "source": [
    "Data science libraries are:\n",
    "1. Numpy\n",
    "2. Scipy\n",
    "3. Pandas\n",
    "4. TensorFlow\n",
    "5. Matplotlib\n",
    "6. Keras\n",
    "7. Scitkit-learn etc.."
   ]
  },
  {
   "cell_type": "markdown",
   "id": "f18508fe",
   "metadata": {},
   "source": [
    "|Data science Tools|\n",
    "|-----|\n",
    "|Anaconda|\n",
    "|JupiterNoteBook|\n",
    "|R Studio|\n",
    "|Apache Hadop|"
   ]
  },
  {
   "cell_type": "markdown",
   "id": "4af2bbb1",
   "metadata": {},
   "source": [
    " Below is Example of arithmetic operation in python :"
   ]
  },
  {
   "cell_type": "code",
   "execution_count": 1,
   "id": "9d864361",
   "metadata": {},
   "outputs": [
    {
     "data": {
      "text/plain": [
       "39"
      ]
     },
     "execution_count": 1,
     "metadata": {},
     "output_type": "execute_result"
    }
   ],
   "source": [
    "3+(4*9)"
   ]
  },
  {
   "cell_type": "code",
   "execution_count": 2,
   "id": "fc284032",
   "metadata": {},
   "outputs": [
    {
     "data": {
      "text/plain": [
       "2.0"
      ]
     },
     "execution_count": 2,
     "metadata": {},
     "output_type": "execute_result"
    }
   ],
   "source": [
    "#coverting 120  minutes into hours\n",
    "120/60"
   ]
  },
  {
   "cell_type": "markdown",
   "id": "d5fe8919",
   "metadata": {},
   "source": [
    "__Objective__\n",
    "* I have learned languages for data science\n",
    "* Different commands used in github\n",
    "* Many tools used in data science\n",
    "* How to add / delete new cells in jupiter notebook etc.."
   ]
  },
  {
   "cell_type": "markdown",
   "id": "be595176",
   "metadata": {},
   "source": [
    "# Author\n",
    "Rajib Mall"
   ]
  },
  {
   "cell_type": "code",
   "execution_count": null,
   "id": "7bfe007d",
   "metadata": {},
   "outputs": [],
   "source": []
  }
 ],
 "metadata": {
  "kernelspec": {
   "display_name": "Python 3 (ipykernel)",
   "language": "python",
   "name": "python3"
  },
  "language_info": {
   "codemirror_mode": {
    "name": "ipython",
    "version": 3
   },
   "file_extension": ".py",
   "mimetype": "text/x-python",
   "name": "python",
   "nbconvert_exporter": "python",
   "pygments_lexer": "ipython3",
   "version": "3.10.9"
  }
 },
 "nbformat": 4,
 "nbformat_minor": 5
}
